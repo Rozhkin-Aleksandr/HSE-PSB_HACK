{
  "nbformat": 4,
  "nbformat_minor": 0,
  "metadata": {
    "colab": {
      "provenance": [],
      "gpuType": "T4"
    },
    "kernelspec": {
      "name": "python3",
      "display_name": "Python 3"
    },
    "language_info": {
      "name": "python"
    },
    "accelerator": "GPU"
  },
  "cells": [
    {
      "cell_type": "markdown",
      "source": [
        "# Imports"
      ],
      "metadata": {
        "id": "2AQLSst0NPCj"
      }
    },
    {
      "cell_type": "code",
      "source": [
        "!pip install catboost\n",
        "!pip install --upgrade holidays\n",
        "!pip install optuna"
      ],
      "metadata": {
        "colab": {
          "base_uri": "https://localhost:8080/"
        },
        "id": "4KcNHsxdRjtt",
        "outputId": "9e487a45-1fe0-419a-b94d-5d25070da332"
      },
      "execution_count": null,
      "outputs": [
        {
          "output_type": "stream",
          "name": "stdout",
          "text": [
            "Collecting catboost\n",
            "  Downloading catboost-1.2.7-cp310-cp310-manylinux2014_x86_64.whl.metadata (1.2 kB)\n",
            "Requirement already satisfied: graphviz in /usr/local/lib/python3.10/dist-packages (from catboost) (0.20.3)\n",
            "Requirement already satisfied: matplotlib in /usr/local/lib/python3.10/dist-packages (from catboost) (3.7.1)\n",
            "Requirement already satisfied: numpy<2.0,>=1.16.0 in /usr/local/lib/python3.10/dist-packages (from catboost) (1.26.4)\n",
            "Requirement already satisfied: pandas>=0.24 in /usr/local/lib/python3.10/dist-packages (from catboost) (2.1.4)\n",
            "Requirement already satisfied: scipy in /usr/local/lib/python3.10/dist-packages (from catboost) (1.13.1)\n",
            "Requirement already satisfied: plotly in /usr/local/lib/python3.10/dist-packages (from catboost) (5.15.0)\n",
            "Requirement already satisfied: six in /usr/local/lib/python3.10/dist-packages (from catboost) (1.16.0)\n",
            "Requirement already satisfied: python-dateutil>=2.8.2 in /usr/local/lib/python3.10/dist-packages (from pandas>=0.24->catboost) (2.8.2)\n",
            "Requirement already satisfied: pytz>=2020.1 in /usr/local/lib/python3.10/dist-packages (from pandas>=0.24->catboost) (2024.2)\n",
            "Requirement already satisfied: tzdata>=2022.1 in /usr/local/lib/python3.10/dist-packages (from pandas>=0.24->catboost) (2024.1)\n",
            "Requirement already satisfied: contourpy>=1.0.1 in /usr/local/lib/python3.10/dist-packages (from matplotlib->catboost) (1.3.0)\n",
            "Requirement already satisfied: cycler>=0.10 in /usr/local/lib/python3.10/dist-packages (from matplotlib->catboost) (0.12.1)\n",
            "Requirement already satisfied: fonttools>=4.22.0 in /usr/local/lib/python3.10/dist-packages (from matplotlib->catboost) (4.53.1)\n",
            "Requirement already satisfied: kiwisolver>=1.0.1 in /usr/local/lib/python3.10/dist-packages (from matplotlib->catboost) (1.4.7)\n",
            "Requirement already satisfied: packaging>=20.0 in /usr/local/lib/python3.10/dist-packages (from matplotlib->catboost) (24.1)\n",
            "Requirement already satisfied: pillow>=6.2.0 in /usr/local/lib/python3.10/dist-packages (from matplotlib->catboost) (10.4.0)\n",
            "Requirement already satisfied: pyparsing>=2.3.1 in /usr/local/lib/python3.10/dist-packages (from matplotlib->catboost) (3.1.4)\n",
            "Requirement already satisfied: tenacity>=6.2.0 in /usr/local/lib/python3.10/dist-packages (from plotly->catboost) (9.0.0)\n",
            "Downloading catboost-1.2.7-cp310-cp310-manylinux2014_x86_64.whl (98.7 MB)\n",
            "\u001b[2K   \u001b[90m━━━━━━━━━━━━━━━━━━━━━━━━━━━━━━━━━━━━━━━━\u001b[0m \u001b[32m98.7/98.7 MB\u001b[0m \u001b[31m5.9 MB/s\u001b[0m eta \u001b[36m0:00:00\u001b[0m\n",
            "\u001b[?25hInstalling collected packages: catboost\n",
            "Successfully installed catboost-1.2.7\n",
            "Requirement already satisfied: holidays in /usr/local/lib/python3.10/dist-packages (0.57)\n",
            "Requirement already satisfied: python-dateutil in /usr/local/lib/python3.10/dist-packages (from holidays) (2.8.2)\n",
            "Requirement already satisfied: six>=1.5 in /usr/local/lib/python3.10/dist-packages (from python-dateutil->holidays) (1.16.0)\n"
          ]
        }
      ]
    },
    {
      "cell_type": "code",
      "execution_count": null,
      "metadata": {
        "colab": {
          "base_uri": "https://localhost:8080/"
        },
        "id": "6ajxd9i8MYkG",
        "outputId": "6b260732-7402-4e6a-b0ca-d61c5cc83559"
      },
      "outputs": [
        {
          "output_type": "stream",
          "name": "stdout",
          "text": [
            "Mounted at /content/drive\n"
          ]
        }
      ],
      "source": [
        "from google.colab import drive\n",
        "drive.mount('/content/drive')"
      ]
    },
    {
      "cell_type": "code",
      "source": [
        "import pandas as pd\n",
        "import numpy as np\n",
        "import sys, os\n",
        "from sklearn.preprocessing import OrdinalEncoder\n",
        "from sklearn.model_selection import train_test_split\n",
        "from catboost import CatBoostClassifier\n",
        "from sklearn.model_selection import RepeatedStratifiedKFold\n",
        "from sklearn.metrics import roc_auc_score\n",
        "from lightgbm import LGBMClassifier\n",
        "from xgboost import XGBClassifier\n",
        "from sklearn.linear_model import LogisticRegression\n",
        "from sklearn.ensemble import RandomForestClassifier\n",
        "from sklearn.neighbors import KNeighborsClassifier\n",
        "from datetime import date\n",
        "from sklearn.model_selection import StratifiedKFold\n",
        "import optuna\n",
        "\n",
        "import holidays\n",
        "ru_holidays = holidays.RU()\n",
        "\n",
        "original_stdout = sys.stdout\n",
        "seed = 52\n",
        "\n",
        "import warnings\n",
        "warnings.filterwarnings(\"ignore\")"
      ],
      "metadata": {
        "id": "gIor_Yu5Mosr"
      },
      "execution_count": null,
      "outputs": []
    },
    {
      "cell_type": "markdown",
      "source": [
        "# Data prepose"
      ],
      "metadata": {
        "id": "PmB-6cAwqMTr"
      }
    },
    {
      "cell_type": "code",
      "source": [
        "train_df = pd.read_excel(\"/content/drive/MyDrive/HSE&PSB_hack/train.xlsx\").drop(columns=[\"Unnamed: 0\", \"Статус брони\"])\n",
        "test_df = pd.read_excel(\"/content/drive/MyDrive/HSE&PSB_hack/test.xlsx\").drop(columns=[\"Unnamed: 0\"])\n",
        "spb_weather = pd.read_csv(\"/content/drive/MyDrive/HSE&PSB_hack/spb_weather_old.csv\")"
      ],
      "metadata": {
        "id": "7I5v5dfhNSDw"
      },
      "execution_count": null,
      "outputs": []
    },
    {
      "cell_type": "code",
      "source": [
        "spb_weather = spb_weather[[\"datetime\", \"tempmax\", \"tempmin\", \"temp\", \"feelslike\", \"humidity\", \"windspeed\"]]"
      ],
      "metadata": {
        "id": "QEmF3zN_bKd7"
      },
      "execution_count": null,
      "outputs": []
    },
    {
      "cell_type": "code",
      "source": [
        "spb_weather[\"datetime\"] = pd.to_datetime(spb_weather[\"datetime\"])"
      ],
      "metadata": {
        "id": "ZWtL2XnJb6Kr"
      },
      "execution_count": null,
      "outputs": []
    },
    {
      "cell_type": "code",
      "source": [
        "spb_weather = spb_weather.set_index(\"datetime\")"
      ],
      "metadata": {
        "id": "rnYnjFrLg1r_"
      },
      "execution_count": null,
      "outputs": []
    },
    {
      "cell_type": "code",
      "source": [
        "def f(x, d):\n",
        "    a = d.copy()\n",
        "    for i in x.split(\"\\n\"):\n",
        "        if i[0].isdigit():\n",
        "            for j in i.split(\"\\n\"):\n",
        "                a[j[3:]] += 1\n",
        "        else:\n",
        "            a[i] += 1\n",
        "    return list(a.values())\n",
        "\n",
        "def prepose(train, test, one_hot=False):\n",
        "    cat_features = [\"Способ оплаты\", \"Источник\", \"Гостиница\", \"Регион\"]\n",
        "\n",
        "    d = {\"Номер «Стандарт»\": 0, \"Коттедж с 3 спальнями\": 0, \"Апартаменты с 2 спальнями с отдельным входом\": 0, \"Коттедж с 2 спальнями\": 0, \"Номер «Стандарт» для маломобильных групп населения\": 0, \"Номер «Люкс»\": 0, \"Номер «Студия»\": 0}\n",
        "    train[list(d.keys())] = train[\"Категория номера\"].apply(lambda x: f(x, d)).apply(pd.Series)\n",
        "    test[list(d.keys())] = test[\"Категория номера\"].apply(lambda x: f(x, d)).apply(pd.Series)\n",
        "\n",
        "    enc = OrdinalEncoder()\n",
        "    col_to_enc = [\"Способ оплаты\", \"Источник\"]\n",
        "    train[col_to_enc] = enc.fit_transform(train[col_to_enc])\n",
        "    test[col_to_enc] = enc.transform(test[col_to_enc])\n",
        "\n",
        "    train[\"Дата отмены\"] = train[\"Дата отмены\"].fillna(0)\n",
        "    train[\"Дата отмены\"] = train[\"Дата отмены\"].apply(lambda x: 1 if x else 0)\n",
        "\n",
        "    cols_to_drop = [\"№ брони\", \"Категория номера\"]\n",
        "\n",
        "    train[\"is_предоплата\"] = train[\"Внесена предоплата\"].apply(lambda x: 1 if x > 0 else 0)\n",
        "    train[\"процент_предоплаты\"] = train[\"Внесена предоплата\"] / train[\"Стоимость\"]\n",
        "\n",
        "    test[\"is_предоплата\"] = test[\"Внесена предоплата\"].apply(lambda x: 1 if x > 0 else 0)\n",
        "    test[\"процент_предоплаты\"] = test[\"Внесена предоплата\"] / test[\"Стоимость\"]\n",
        "\n",
        "    train[\"Регион\"] = train[\"Гостиница\"].apply(lambda x: 1 if x in [1, 2] else 2)\n",
        "    test[\"Регион\"] = test[\"Гостиница\"].apply(lambda x: 1 if x in [1, 2] else 2)\n",
        "\n",
        "    train[\"Цена за ночь\"] = train[\"Стоимость\"] / train[\"Ночей\"]\n",
        "    test[\"Цена за ночь\"] = test[\"Стоимость\"] / test[\"Ночей\"]\n",
        "\n",
        "    for col1 in cat_features:\n",
        "        for col2 in [\"Стоимость\", \"Внесена предоплата\", \"Ночей\", \"Гостей\"]:\n",
        "            df = pd.concat([train, test], axis=0)\n",
        "            temp = df.groupby(col1)[col2].agg([\"mean\", \"max\", \"min\", \"median\", \"std\"]).reset_index()\n",
        "            temp.columns = [col1] + [f\"{col1}_{col2}_{x}\" for x in [\"mean\", \"max\", \"min\", \"median\", \"std\"]]\n",
        "            df = df.merge(temp, on=col1, how=\"left\")\n",
        "            for col in df.columns[df.isna().any()].tolist():\n",
        "                df[col] = df[col].fillna(df[col].median())\n",
        "            train, test = df.iloc[:train.shape[0]].copy(), df.iloc[train.shape[0]:].copy()\n",
        "\n",
        "\n",
        "    date_cols = [\"Дата бронирования\", \"Заезд\", \"Выезд\"]\n",
        "    for col in date_cols:\n",
        "        train[col] = pd.to_datetime(train[col]).dt.normalize()\n",
        "        train[f\"{col}_is_holiday\"] = pd.to_datetime(train[col]).dt.strftime('%m/%d/%Y').apply(lambda x: int(x in ru_holidays))\n",
        "        train[f\"{col}_dayOfweek\"] = train[col].dt.dayofweek\n",
        "        train[f\"{col}_month\"] = train[col].dt.month\n",
        "        train[f\"{col}_year\"] = train[col].dt.year\n",
        "        train = train.join(spb_weather, on='Дата бронирования', how='left')\n",
        "        train.columns = list(train.columns[:-(len(spb_weather.columns))]) + [f\"{col}_{x}\" for x in train.columns[-(len(spb_weather.columns)):]]\n",
        "\n",
        "        test[col] = pd.to_datetime(test[col]).dt.normalize()\n",
        "        test[f\"{col}_is_holiday\"] = pd.to_datetime(test[col]).dt.strftime('%m/%d/%Y').apply(lambda x: int(x in ru_holidays))\n",
        "        test[f\"{col}_dayOfweek\"] = test[col].dt.dayofweek\n",
        "        test[f\"{col}_month\"] = test[col].dt.month\n",
        "        test[f\"{col}_year\"] = test[col].dt.year\n",
        "        test = test.join(spb_weather, on='Дата бронирования', how='left')\n",
        "        test.columns = list(test.columns[:-(len(spb_weather.columns))]) + [f\"{col}_{x}\" for x in test.columns[-(len(spb_weather.columns)):]]\n",
        "\n",
        "\n",
        "    train[\"Выезд - Заезд\"] = (train[\"Выезд\"] - train[\"Заезд\"]).dt.days\n",
        "    train[\"Заезд - бронирование\"] = (train[\"Заезд\"] - train[\"Дата бронирования\"]).dt.days\n",
        "\n",
        "    test[\"Выезд - Заезд\"] = (test[\"Выезд\"] - test[\"Заезд\"]).dt.days\n",
        "    test[\"Заезд - бронирование\"] = (test[\"Заезд\"] - test[\"Дата бронирования\"]).dt.days\n",
        "\n",
        "    train = train.drop(columns=cols_to_drop + date_cols)\n",
        "    test = test.drop(columns=cols_to_drop + date_cols)\n",
        "    for col in train.columns:\n",
        "        if col.startswith(\"datetime\"):\n",
        "            try:\n",
        "                train = train.drop(columns=[col])\n",
        "                test = test.drop(columns=[col])\n",
        "            except:\n",
        "                pass\n",
        "\n",
        "    if one_hot:\n",
        "        oh = pd.DataFrame()\n",
        "        df = pd.concat([train, test], axis=0)\n",
        "        for col in cat_features:\n",
        "            temp = pd.get_dummies(df[col]).astype(int)\n",
        "            temp.columns = [f\"{col}_{x}\" for x in temp.columns]\n",
        "            df = pd.concat([df, temp], axis=1)\n",
        "        df = df.drop(columns=cat_features)\n",
        "        train, test = df.iloc[:train.shape[0]], df.iloc[train.shape[0]:]\n",
        "\n",
        "\n",
        "    if \"Дата отмены\" in test.columns:\n",
        "        test = test.drop(columns=[\"Дата отмены\"])\n",
        "    print(\"Train shape:\", train.shape, \"Test shape:\", test.shape,)\n",
        "    return train, test\n",
        "\n",
        "\n",
        "train, test = prepose(train_df.copy(), test_df.copy(), one_hot=False)\n",
        "train_oh, test_oh = prepose(train_df.copy(), test_df.copy(), one_hot=True)"
      ],
      "metadata": {
        "colab": {
          "base_uri": "https://localhost:8080/"
        },
        "id": "sulyig5j530O",
        "outputId": "649b29fc-4c6d-4397-8645-cc966e92f6be"
      },
      "execution_count": null,
      "outputs": [
        {
          "output_type": "stream",
          "name": "stdout",
          "text": [
            "Train shape: (26174, 132) Test shape: (11218, 131)\n",
            "Train shape: (26174, 175) Test shape: (11218, 174)\n"
          ]
        }
      ]
    },
    {
      "cell_type": "markdown",
      "source": [
        "# Model"
      ],
      "metadata": {
        "id": "jYY4xFw2qOoC"
      }
    },
    {
      "cell_type": "code",
      "source": [
        "def hill_climbing(x, y, x_test):\n",
        "    # Evaluating oof predictions\n",
        "    scores = {}\n",
        "    for col in x.columns:\n",
        "        scores[col] = roc_auc_score(y, x[col])\n",
        "\n",
        "    # Sorting the model scores\n",
        "    scores = {k: v for k, v in sorted(scores.items(), key = lambda item: item[1], reverse = True)}\n",
        "\n",
        "    # Sort oof_df and test_preds\n",
        "    x = x[list(scores.keys())]\n",
        "    x_test = x_test[list(scores.keys())]\n",
        "\n",
        "    STOP = False\n",
        "    current_best_ensemble = x.iloc[:,0]\n",
        "    current_best_test_preds = x_test.iloc[:,0]\n",
        "    MODELS = x.iloc[:,1:]\n",
        "    weight_range = np.arange(-0.5, 0.51, 0.01)\n",
        "    history = [roc_auc_score(y, current_best_ensemble)]\n",
        "    j = 0\n",
        "\n",
        "    while not STOP:\n",
        "        j += 1\n",
        "        potential_new_best_cv_score = roc_auc_score(y, current_best_ensemble)\n",
        "        k_best, wgt_best = None, None\n",
        "        for k in MODELS:\n",
        "            for wgt in weight_range:\n",
        "                potential_ensemble = (1 - wgt) * current_best_ensemble + wgt * MODELS[k]\n",
        "                cv_score = roc_auc_score(y, potential_ensemble)\n",
        "                if cv_score > potential_new_best_cv_score:\n",
        "                    potential_new_best_cv_score = cv_score\n",
        "                    k_best, wgt_best = k, wgt\n",
        "\n",
        "        if k_best is not None:\n",
        "            current_best_ensemble = (1 - wgt_best) * current_best_ensemble + wgt_best * MODELS[k_best]\n",
        "            current_best_test_preds = (1 - wgt_best) * current_best_test_preds + wgt_best * x_test[k_best]\n",
        "            MODELS.drop(k_best, axis = 1, inplace = True)\n",
        "            if MODELS.shape[1] == 0:\n",
        "                STOP = True\n",
        "            history.append(potential_new_best_cv_score)\n",
        "        else:\n",
        "            STOP = True\n",
        "\n",
        "    hill_ens_pred_1 = current_best_ensemble\n",
        "    hill_ens_pred_2 = current_best_test_preds\n",
        "\n",
        "    return [hill_ens_pred_1, hill_ens_pred_2]"
      ],
      "metadata": {
        "id": "kgYIJmQHSeH8"
      },
      "execution_count": null,
      "outputs": []
    },
    {
      "cell_type": "code",
      "source": [
        "cat_features = [\"Способ оплаты\", \"Источник\", \"Гостиница\", \"Регион\"]\n",
        "train[cat_features] = train[cat_features].astype(int)\n",
        "test[cat_features] = test[cat_features].astype(int)\n",
        "X, y = train.drop(columns=[\"Дата отмены\"]), train[\"Дата отмены\"]\n",
        "X_oh = train_oh.drop(columns=[\"Дата отмены\"])\n",
        "\n",
        "clf_avarage_auc = []\n",
        "clf_predictions = []\n",
        "\n",
        "ens_cv_scores, ens_preds = list(), list()\n",
        "hill_ens_cv_scores, hill_ens_preds = list(), list()\n",
        "ridge_ens_cv_scores, ridge_ens_preds = list(), list()\n",
        "hill_ens_cv_recall = list()\n",
        "\n",
        "skf = RepeatedStratifiedKFold(n_splits=10, n_repeats=1, random_state=seed)\n",
        "for i, (train_index, test_index) in enumerate(skf.split(X, y)):\n",
        "    oof_preds = pd.DataFrame()\n",
        "    oof_test_preds = pd.DataFrame()\n",
        "    print('----------------------------------------------------------')\n",
        "    x_train_fold, x_test_fold = X.iloc[train_index], X.iloc[test_index]\n",
        "    y_train_fold, y_test_fold = y.iloc[train_index], y.iloc[test_index]\n",
        "\n",
        "    x_train_oh_fold, x_test_oh_fold = X_oh.iloc[train_index], X_oh.iloc[test_index]\n",
        "\n",
        "\n",
        "    # XGBoost with one hot\n",
        "    xg = XGBClassifier(random_state=seed)\n",
        "    xg.fit(x_train_oh_fold, y_train_fold,\n",
        "           eval_set=[(x_test_oh_fold, y_test_fold)],\n",
        "           verbose=0)\n",
        "    xg_pred = xg.predict_proba(x_test_oh_fold)[:, 1]\n",
        "    xg_score = roc_auc_score(y_test_fold, xg_pred)\n",
        "    print('Fold', i, '==> XG with one hot oof ROC-AUC score is ==>', xg_score)\n",
        "    xg_test_pred = xg.predict_proba(test_oh)[:, 1]\n",
        "\n",
        "    # Catboost\n",
        "    catb = CatBoostClassifier(eval_metric=\"AUC\", random_state=seed, task_type=\"GPU\", n_estimators=12500, early_stopping_rounds=200)\n",
        "    catb.fit(x_train_fold, y_train_fold, eval_set=[(x_test_fold, y_test_fold)], verbose=200, cat_features=cat_features)\n",
        "    catb_pred = catb.predict_proba(x_test_fold)[:, 1]\n",
        "    catb_score = roc_auc_score(y_test_fold, catb_pred)\n",
        "    print('Fold', i, '==> Catboost oof ROC-AUC score is ==>', catb_score)\n",
        "    catb_test_pred = catb.predict_proba(test)[:, 1]\n",
        "\n",
        "    # LightGBM\n",
        "    sys.stdout = open(os.devnull, 'w')\n",
        "    li = LGBMClassifier(random_state=seed)\n",
        "    li.fit(x_train_fold, y_train_fold,\n",
        "           eval_set=[(x_test_fold, y_test_fold)],\n",
        "           categorical_feature=cat_features,\n",
        "           eval_metric='auc')\n",
        "    li_pred = li.predict_proba(x_test_fold)[:, 1]\n",
        "    li_score = roc_auc_score(y_test_fold, li_pred)\n",
        "    sys.stdout = original_stdout\n",
        "    print('Fold', i, '==> LightGBM oof ROC-AUC score is ==>', li_score)\n",
        "    li_test_pred = li.predict_proba(test)[:, 1]\n",
        "\n",
        "    # Logreg\n",
        "    # logreg = LogisticRegression(random_state=seed)\n",
        "    # logreg.fit(x_train_fold, y_train_fold)\n",
        "    # logreg_pred = logreg.predict_proba(x_test_fold)[:, 1]\n",
        "    # logreg_score = roc_auc_score(y_test_fold, logreg_pred)\n",
        "    # print('Fold', i, '==> Logreg oof ROC-AUC score is ==>', logreg_score)\n",
        "    # logreg_test_pred = logreg.predict_proba(test)[:, 1]\n",
        "\n",
        "    # RF\n",
        "    rf = RandomForestClassifier(n_estimators=100, max_depth=4, random_state=seed)\n",
        "    rf.fit(x_train_fold, y_train_fold)\n",
        "    rf_pred = rf.predict_proba(x_test_fold)[:, 1]\n",
        "    rf_score = roc_auc_score(y_test_fold, rf_pred)\n",
        "    print('Fold', i, '==> RF oof ROC-AUC score is ==>', rf_score)\n",
        "    rf_test_pred = rf.predict_proba(test)[:, 1]\n",
        "\n",
        "    # KNN\n",
        "    # knn = KNeighborsClassifier(n_neighbors=15, weights=\"uniform\", algorithm=\"kd_tree\", p=1)\n",
        "    # knn.fit(x_train_fold, y_train_fold)\n",
        "    # knn_pred = knn.predict_proba(x_test_fold)[:, 1]\n",
        "    # knn_score = roc_auc_score(y_test_fold, knn_pred)\n",
        "    # print('Fold', i, '==> KNN oof ROC-AUC score is ==>', knn_score)\n",
        "    # knn_test_pred = knn.predict_proba(test)[:, 1]\n",
        "\n",
        "    # Ensemble\n",
        "    ens_pred_1 = (xg_pred + catb_pred + li_pred + rf_pred) / 4\n",
        "    ens_pred_2 = (xg_test_pred + catb_test_pred + li_test_pred + rf_test_pred) / 4\n",
        "\n",
        "    ens_score_fold = roc_auc_score(y_test_fold, ens_pred_1)\n",
        "    ens_cv_scores.append(ens_score_fold)\n",
        "    ens_preds.append(ens_pred_2)\n",
        "    print('Fold', i, '==> Average Ensemble oof ROC-AUC score is ==>', ens_score_fold)\n",
        "\n",
        "    # Hill Climbing Ensemble\n",
        "    x = pd.DataFrame({'Xgboost_oh': xg_pred,\n",
        "                      'Catboost': catb_pred,\n",
        "                      'LightGBM': li_pred,\n",
        "\n",
        "                      'rf': rf_pred})\n",
        "    y_fold = y_test_fold\n",
        "\n",
        "    x_test = pd.DataFrame({'Xgboost_oh': xg_test_pred,\n",
        "                           'Catboost': catb_test_pred,\n",
        "                           'LightGBM': li_test_pred,\n",
        "                           'rf': rf_test_pred})\n",
        "\n",
        "    hill_results = hill_climbing(x, y_fold, x_test)\n",
        "\n",
        "    hill_ens_score_fold = roc_auc_score(y_fold, hill_results[0])\n",
        "    hill_ens_cv_scores.append(hill_ens_score_fold)\n",
        "    hill_ens_preds.append(hill_results[1])\n",
        "\n",
        "    print('Fold', i, '==> Hill Climbing Ensemble oof ROC-AUC score is ==>', hill_ens_score_fold)"
      ],
      "metadata": {
        "colab": {
          "base_uri": "https://localhost:8080/"
        },
        "id": "cbVvNMWdRCE2",
        "outputId": "afa497d3-b24d-40b0-fcad-e29312518df5"
      },
      "execution_count": null,
      "outputs": [
        {
          "output_type": "stream",
          "name": "stdout",
          "text": [
            "----------------------------------------------------------\n",
            "Fold 0 ==> XG with one hot oof ROC-AUC score is ==> 0.8349091625724134\n",
            "Learning rate set to 0.019133\n",
            "0:\ttest: 0.8061592\tbest: 0.8061592 (0)\ttotal: 76.6ms\tremaining: 15m 57s\n"
          ]
        },
        {
          "output_type": "stream",
          "name": "stderr",
          "text": [
            "Default metric period is 5 because AUC is/are not implemented for GPU\n"
          ]
        },
        {
          "output_type": "stream",
          "name": "stdout",
          "text": [
            "200:\ttest: 0.8360696\tbest: 0.8360696 (200)\ttotal: 11.9s\tremaining: 12m 7s\n",
            "400:\ttest: 0.8374015\tbest: 0.8374015 (400)\ttotal: 20.4s\tremaining: 10m 16s\n",
            "600:\ttest: 0.8392228\tbest: 0.8392256 (596)\ttotal: 32s\tremaining: 10m 32s\n",
            "800:\ttest: 0.8397875\tbest: 0.8398644 (749)\ttotal: 47s\tremaining: 11m 25s\n",
            "1000:\ttest: 0.8397398\tbest: 0.8399391 (823)\ttotal: 1m 2s\tremaining: 12m 1s\n",
            "bestTest = 0.8399391472\n",
            "bestIteration = 823\n",
            "Shrink model to first 824 iterations.\n",
            "Fold 0 ==> Catboost oof ROC-AUC score is ==> 0.8399386778616997\n",
            "Fold 0 ==> LightGBM oof ROC-AUC score is ==> 0.832327949695681\n",
            "Fold 0 ==> RF oof ROC-AUC score is ==> 0.8039566070250055\n",
            "Fold 0 ==> Average Ensemble oof ROC-AUC score is ==> 0.8367680758231282\n",
            "Fold 0 ==> Hill Climbing Ensemble oof ROC-AUC score is ==> 0.8441322321624991\n",
            "----------------------------------------------------------\n",
            "Fold 1 ==> XG with one hot oof ROC-AUC score is ==> 0.8423631480530909\n",
            "Learning rate set to 0.019133\n",
            "0:\ttest: 0.8319279\tbest: 0.8319279 (0)\ttotal: 102ms\tremaining: 21m 17s\n"
          ]
        },
        {
          "output_type": "stream",
          "name": "stderr",
          "text": [
            "Default metric period is 5 because AUC is/are not implemented for GPU\n"
          ]
        },
        {
          "output_type": "stream",
          "name": "stdout",
          "text": [
            "200:\ttest: 0.8650762\tbest: 0.8650762 (200)\ttotal: 11.4s\tremaining: 11m 37s\n",
            "400:\ttest: 0.8658480\tbest: 0.8662852 (355)\ttotal: 22.1s\tremaining: 11m 8s\n",
            "bestTest = 0.8662852049\n",
            "bestIteration = 355\n",
            "Shrink model to first 356 iterations.\n",
            "Fold 1 ==> Catboost oof ROC-AUC score is ==> 0.8662851983574099\n",
            "Fold 1 ==> LightGBM oof ROC-AUC score is ==> 0.8607432903131188\n",
            "Fold 1 ==> RF oof ROC-AUC score is ==> 0.8376223692894331\n",
            "Fold 1 ==> Average Ensemble oof ROC-AUC score is ==> 0.8657920547041138\n",
            "Fold 1 ==> Hill Climbing Ensemble oof ROC-AUC score is ==> 0.869978276013786\n",
            "----------------------------------------------------------\n",
            "Fold 2 ==> XG with one hot oof ROC-AUC score is ==> 0.8677579285851322\n",
            "Learning rate set to 0.019133\n",
            "0:\ttest: 0.8326572\tbest: 0.8326572 (0)\ttotal: 77.8ms\tremaining: 16m 12s\n"
          ]
        },
        {
          "output_type": "stream",
          "name": "stderr",
          "text": [
            "Default metric period is 5 because AUC is/are not implemented for GPU\n"
          ]
        },
        {
          "output_type": "stream",
          "name": "stdout",
          "text": [
            "200:\ttest: 0.8734327\tbest: 0.8734327 (200)\ttotal: 12.8s\tremaining: 13m 1s\n",
            "400:\ttest: 0.8763931\tbest: 0.8764105 (392)\ttotal: 29.4s\tremaining: 14m 47s\n",
            "600:\ttest: 0.8772275\tbest: 0.8772275 (600)\ttotal: 40.7s\tremaining: 13m 26s\n",
            "800:\ttest: 0.8778894\tbest: 0.8779353 (788)\ttotal: 51.8s\tremaining: 12m 36s\n",
            "1000:\ttest: 0.8775424\tbest: 0.8779362 (827)\ttotal: 1m\tremaining: 11m 32s\n",
            "bestTest = 0.8779361844\n",
            "bestIteration = 827\n",
            "Shrink model to first 828 iterations.\n",
            "Fold 2 ==> Catboost oof ROC-AUC score is ==> 0.8779361857788964\n",
            "Fold 2 ==> LightGBM oof ROC-AUC score is ==> 0.8749422837372783\n",
            "Fold 2 ==> RF oof ROC-AUC score is ==> 0.8371749644981875\n",
            "Fold 2 ==> Average Ensemble oof ROC-AUC score is ==> 0.8736741323742565\n",
            "Fold 2 ==> Hill Climbing Ensemble oof ROC-AUC score is ==> 0.8825608304165393\n",
            "----------------------------------------------------------\n",
            "Fold 3 ==> XG with one hot oof ROC-AUC score is ==> 0.8632214073863965\n",
            "Learning rate set to 0.019133\n"
          ]
        },
        {
          "output_type": "stream",
          "name": "stderr",
          "text": [
            "Default metric period is 5 because AUC is/are not implemented for GPU\n"
          ]
        },
        {
          "output_type": "stream",
          "name": "stdout",
          "text": [
            "0:\ttest: 0.8393877\tbest: 0.8393877 (0)\ttotal: 76.1ms\tremaining: 15m 51s\n",
            "200:\ttest: 0.8620859\tbest: 0.8620859 (200)\ttotal: 13.5s\tremaining: 13m 47s\n",
            "400:\ttest: 0.8655576\tbest: 0.8655576 (400)\ttotal: 24.8s\tremaining: 12m 28s\n",
            "600:\ttest: 0.8677515\tbest: 0.8677598 (596)\ttotal: 36.3s\tremaining: 11m 58s\n",
            "800:\ttest: 0.8693790\tbest: 0.8694865 (787)\ttotal: 44.7s\tremaining: 10m 52s\n",
            "1000:\ttest: 0.8702658\tbest: 0.8704310 (943)\ttotal: 56.1s\tremaining: 10m 44s\n",
            "1200:\ttest: 0.8716611\tbest: 0.8716629 (1198)\ttotal: 1m 8s\tremaining: 10m 40s\n",
            "1400:\ttest: 0.8727039\tbest: 0.8727305 (1396)\ttotal: 1m 19s\tremaining: 10m 26s\n",
            "1600:\ttest: 0.8733978\tbest: 0.8734125 (1595)\ttotal: 1m 27s\tremaining: 9m 56s\n",
            "1800:\ttest: 0.8736035\tbest: 0.8736576 (1768)\ttotal: 1m 39s\tremaining: 9m 49s\n",
            "2000:\ttest: 0.8736218\tbest: 0.8737733 (1920)\ttotal: 1m 50s\tremaining: 9m 39s\n",
            "bestTest = 0.8737732768\n",
            "bestIteration = 1920\n",
            "Shrink model to first 1921 iterations.\n",
            "Fold 3 ==> Catboost oof ROC-AUC score is ==> 0.8737741891955156\n",
            "Fold 3 ==> LightGBM oof ROC-AUC score is ==> 0.8727892261752317\n",
            "Fold 3 ==> RF oof ROC-AUC score is ==> 0.8332819279939709\n",
            "Fold 3 ==> Average Ensemble oof ROC-AUC score is ==> 0.8687860353723812\n",
            "Fold 3 ==> Hill Climbing Ensemble oof ROC-AUC score is ==> 0.8774276401002037\n",
            "----------------------------------------------------------\n",
            "Fold 4 ==> XG with one hot oof ROC-AUC score is ==> 0.8609635564470063\n",
            "Learning rate set to 0.019133\n",
            "0:\ttest: 0.8472938\tbest: 0.8472938 (0)\ttotal: 75.6ms\tremaining: 15m 44s\n"
          ]
        },
        {
          "output_type": "stream",
          "name": "stderr",
          "text": [
            "Default metric period is 5 because AUC is/are not implemented for GPU\n"
          ]
        },
        {
          "output_type": "stream",
          "name": "stdout",
          "text": [
            "200:\ttest: 0.8728696\tbest: 0.8728962 (199)\ttotal: 12.1s\tremaining: 12m 22s\n",
            "400:\ttest: 0.8729614\tbest: 0.8731671 (279)\ttotal: 25.7s\tremaining: 12m 55s\n",
            "600:\ttest: 0.8730606\tbest: 0.8734752 (497)\ttotal: 35.6s\tremaining: 11m 45s\n",
            "bestTest = 0.8734752238\n",
            "bestIteration = 497\n",
            "Shrink model to first 498 iterations.\n",
            "Fold 4 ==> Catboost oof ROC-AUC score is ==> 0.8734757021550941\n",
            "Fold 4 ==> LightGBM oof ROC-AUC score is ==> 0.8721633228085837\n",
            "Fold 4 ==> RF oof ROC-AUC score is ==> 0.8476055735253871\n",
            "Fold 4 ==> Average Ensemble oof ROC-AUC score is ==> 0.8751012525003169\n",
            "Fold 4 ==> Hill Climbing Ensemble oof ROC-AUC score is ==> 0.8761482171294432\n",
            "----------------------------------------------------------\n",
            "Fold 5 ==> XG with one hot oof ROC-AUC score is ==> 0.841843135310076\n",
            "Learning rate set to 0.019133\n"
          ]
        },
        {
          "output_type": "stream",
          "name": "stderr",
          "text": [
            "Default metric period is 5 because AUC is/are not implemented for GPU\n"
          ]
        },
        {
          "output_type": "stream",
          "name": "stdout",
          "text": [
            "0:\ttest: 0.8086190\tbest: 0.8086190 (0)\ttotal: 130ms\tremaining: 27m 9s\n",
            "200:\ttest: 0.8585643\tbest: 0.8585643 (200)\ttotal: 10.6s\tremaining: 10m 50s\n",
            "400:\ttest: 0.8608915\tbest: 0.8609512 (399)\ttotal: 23.4s\tremaining: 11m 46s\n",
            "600:\ttest: 0.8619476\tbest: 0.8620294 (598)\ttotal: 36.3s\tremaining: 11m 57s\n",
            "800:\ttest: 0.8627402\tbest: 0.8629817 (766)\ttotal: 50.5s\tremaining: 12m 17s\n",
            "1000:\ttest: 0.8630295\tbest: 0.8631195 (992)\ttotal: 1m 3s\tremaining: 12m 4s\n",
            "1200:\ttest: 0.8636347\tbest: 0.8636420 (1189)\ttotal: 1m 17s\tremaining: 12m 11s\n",
            "1400:\ttest: 0.8640902\tbest: 0.8641499 (1341)\ttotal: 1m 27s\tremaining: 11m 31s\n",
            "1600:\ttest: 0.8642133\tbest: 0.8642234 (1572)\ttotal: 1m 39s\tremaining: 11m 16s\n",
            "1800:\ttest: 0.8642977\tbest: 0.8644498 (1673)\ttotal: 1m 52s\tremaining: 11m 9s\n",
            "bestTest = 0.8644497693\n",
            "bestIteration = 1673\n",
            "Shrink model to first 1674 iterations.\n",
            "Fold 5 ==> Catboost oof ROC-AUC score is ==> 0.8644511425690308\n",
            "Fold 5 ==> LightGBM oof ROC-AUC score is ==> 0.8580490457009244\n",
            "Fold 5 ==> RF oof ROC-AUC score is ==> 0.8188595065306715\n",
            "Fold 5 ==> Average Ensemble oof ROC-AUC score is ==> 0.858048127310899\n",
            "Fold 5 ==> Hill Climbing Ensemble oof ROC-AUC score is ==> 0.8647340066969001\n",
            "----------------------------------------------------------\n",
            "Fold 6 ==> XG with one hot oof ROC-AUC score is ==> 0.860700896899699\n",
            "Learning rate set to 0.019133\n",
            "0:\ttest: 0.8450667\tbest: 0.8450667 (0)\ttotal: 76.4ms\tremaining: 15m 55s\n"
          ]
        },
        {
          "output_type": "stream",
          "name": "stderr",
          "text": [
            "Default metric period is 5 because AUC is/are not implemented for GPU\n"
          ]
        },
        {
          "output_type": "stream",
          "name": "stdout",
          "text": [
            "200:\ttest: 0.8641035\tbest: 0.8641228 (184)\ttotal: 11.5s\tremaining: 11m 43s\n",
            "400:\ttest: 0.8665474\tbest: 0.8665630 (394)\ttotal: 19.8s\tremaining: 9m 58s\n",
            "600:\ttest: 0.8679075\tbest: 0.8679075 (600)\ttotal: 32s\tremaining: 10m 34s\n",
            "800:\ttest: 0.8692943\tbest: 0.8693402 (771)\ttotal: 44.8s\tremaining: 10m 54s\n",
            "1000:\ttest: 0.8698471\tbest: 0.8699629 (978)\ttotal: 56.5s\tremaining: 10m 48s\n",
            "1200:\ttest: 0.8704551\tbest: 0.8704891 (1183)\ttotal: 1m 10s\tremaining: 11m 3s\n",
            "1400:\ttest: 0.8711173\tbest: 0.8711843 (1352)\ttotal: 1m 22s\tremaining: 10m 56s\n",
            "1600:\ttest: 0.8714401\tbest: 0.8715443 (1575)\ttotal: 1m 39s\tremaining: 11m 18s\n",
            "bestTest = 0.8715443313\n",
            "bestIteration = 1575\n",
            "Shrink model to first 1576 iterations.\n",
            "Fold 6 ==> Catboost oof ROC-AUC score is ==> 0.8715443279313633\n",
            "Fold 6 ==> LightGBM oof ROC-AUC score is ==> 0.8642936386796489\n",
            "Fold 6 ==> RF oof ROC-AUC score is ==> 0.8332098098748969\n",
            "Fold 6 ==> Average Ensemble oof ROC-AUC score is ==> 0.8675392290299413\n",
            "Fold 6 ==> Hill Climbing Ensemble oof ROC-AUC score is ==> 0.87496441238651\n",
            "----------------------------------------------------------\n",
            "Fold 7 ==> XG with one hot oof ROC-AUC score is ==> 0.8506045761538196\n",
            "Learning rate set to 0.019133\n",
            "0:\ttest: 0.8307201\tbest: 0.8307201 (0)\ttotal: 79.1ms\tremaining: 16m 28s\n"
          ]
        },
        {
          "output_type": "stream",
          "name": "stderr",
          "text": [
            "Default metric period is 5 because AUC is/are not implemented for GPU\n"
          ]
        },
        {
          "output_type": "stream",
          "name": "stdout",
          "text": [
            "200:\ttest: 0.8496642\tbest: 0.8497436 (177)\ttotal: 11.7s\tremaining: 11m 55s\n",
            "400:\ttest: 0.8502142\tbest: 0.8504007 (375)\ttotal: 23.2s\tremaining: 11m 39s\n",
            "600:\ttest: 0.8506762\tbest: 0.8507524 (598)\ttotal: 34.7s\tremaining: 11m 26s\n",
            "800:\ttest: 0.8511616\tbest: 0.8512098 (770)\ttotal: 43.1s\tremaining: 10m 28s\n",
            "1000:\ttest: 0.8513049\tbest: 0.8514036 (941)\ttotal: 54.5s\tremaining: 10m 26s\n",
            "1200:\ttest: 0.8516051\tbest: 0.8516451 (1193)\ttotal: 1m 6s\tremaining: 10m 21s\n",
            "1400:\ttest: 0.8520620\tbest: 0.8520620 (1400)\ttotal: 1m 17s\tremaining: 10m 13s\n",
            "1600:\ttest: 0.8526296\tbest: 0.8526416 (1599)\ttotal: 1m 26s\tremaining: 9m 50s\n",
            "1800:\ttest: 0.8532146\tbest: 0.8532367 (1783)\ttotal: 1m 38s\tremaining: 9m 43s\n",
            "2000:\ttest: 0.8536114\tbest: 0.8536794 (1969)\ttotal: 1m 49s\tremaining: 9m 36s\n",
            "2200:\ttest: 0.8535756\tbest: 0.8537813 (2096)\ttotal: 2m 1s\tremaining: 9m 29s\n",
            "bestTest = 0.8537812829\n",
            "bestIteration = 2096\n",
            "Shrink model to first 2097 iterations.\n",
            "Fold 7 ==> Catboost oof ROC-AUC score is ==> 0.8537812872521953\n",
            "Fold 7 ==> LightGBM oof ROC-AUC score is ==> 0.8576660770602702\n",
            "Fold 7 ==> RF oof ROC-AUC score is ==> 0.8276783467510115\n",
            "Fold 7 ==> Average Ensemble oof ROC-AUC score is ==> 0.8576449540896827\n",
            "Fold 7 ==> Hill Climbing Ensemble oof ROC-AUC score is ==> 0.8597195971573992\n",
            "----------------------------------------------------------\n",
            "Fold 8 ==> XG with one hot oof ROC-AUC score is ==> 0.8409265820645775\n",
            "Learning rate set to 0.019133\n",
            "0:\ttest: 0.8206788\tbest: 0.8206788 (0)\ttotal: 77.7ms\tremaining: 16m 11s\n"
          ]
        },
        {
          "output_type": "stream",
          "name": "stderr",
          "text": [
            "Default metric period is 5 because AUC is/are not implemented for GPU\n"
          ]
        }
      ]
    },
    {
      "cell_type": "code",
      "source": [
        "print('The average ensemble oof ROC-AUC score over the 10-folds is', np.mean(ens_cv_scores))\n",
        "print('The hill climbing ensemble oof ROC-AUC score over the 10-folds is', np.mean(hill_ens_cv_scores))"
      ],
      "metadata": {
        "colab": {
          "base_uri": "https://localhost:8080/"
        },
        "id": "cJmKrZQkcLHx",
        "outputId": "3ba8f6a6-786e-4323-f654-bacbc2e1ccf3"
      },
      "execution_count": null,
      "outputs": [
        {
          "output_type": "stream",
          "name": "stdout",
          "text": [
            "The average ensemble oof ROC-AUC score over the 10-folds is 0.8589821571508421\n",
            "The hill climbing ensemble oof ROC-AUC score over the 10-folds is 0.8654688970974037\n"
          ]
        }
      ]
    },
    {
      "cell_type": "code",
      "source": [
        "# 0.863 -> 0.864 -> 0.865\n",
        "# 0.852 -> 0.8532 -> 0.8536"
      ],
      "metadata": {
        "colab": {
          "base_uri": "https://localhost:8080/",
          "height": 106
        },
        "id": "EEXTlxPp1WU0",
        "outputId": "6f62019b-dd3d-4fd8-ea9c-aba01a71c5fd"
      },
      "execution_count": null,
      "outputs": [
        {
          "output_type": "error",
          "ename": "SyntaxError",
          "evalue": "invalid syntax (<ipython-input-10-957cc8ed5a46>, line 1)",
          "traceback": [
            "\u001b[0;36m  File \u001b[0;32m\"<ipython-input-10-957cc8ed5a46>\"\u001b[0;36m, line \u001b[0;32m1\u001b[0m\n\u001b[0;31m    0.863 -> 0.864\u001b[0m\n\u001b[0m          ^\u001b[0m\n\u001b[0;31mSyntaxError\u001b[0m\u001b[0;31m:\u001b[0m invalid syntax\n"
          ]
        }
      ]
    },
    {
      "cell_type": "markdown",
      "source": [
        "# Submission"
      ],
      "metadata": {
        "id": "3Huq1gPHqTx_"
      }
    },
    {
      "cell_type": "code",
      "source": [
        "ens_preds_test = pd.DataFrame(hill_ens_preds).apply(np.mean, axis = 0)"
      ],
      "metadata": {
        "id": "lleMhwAHVsIG"
      },
      "execution_count": null,
      "outputs": []
    },
    {
      "cell_type": "code",
      "source": [
        "ens_preds_test.to_csv(\"submission.csv\", index=False, header=False)"
      ],
      "metadata": {
        "id": "qBpxY6umV6hZ"
      },
      "execution_count": null,
      "outputs": []
    },
    {
      "cell_type": "markdown",
      "source": [
        "# Optuna"
      ],
      "metadata": {
        "id": "h2ddBdJtqhyO"
      }
    },
    {
      "cell_type": "markdown",
      "source": [
        "## LightGBM"
      ],
      "metadata": {
        "id": "2OKJqknNrD4y"
      }
    },
    {
      "cell_type": "code",
      "source": [
        "def objective(trial):\n",
        "    X, y = train.drop(columns=[\"Дата отмены\"]), train[\"Дата отмены\"]\n",
        "    params = {\n",
        "        \"objective\": \"binary\",\n",
        "        \"eval_metric\": \"log_loss\",\n",
        "        \"verbosity\": -1,\n",
        "        \"n_estimators\": 12500,\n",
        "        \"subsample\": trial.suggest_float(\"subsample\", 0.1, 1),\n",
        "        \"learning_rate\": trial.suggest_float(\"learning_rate\", 0.01, 0.2),\n",
        "        \"colsample_bytree\": trial.suggest_float(\"colsample_bytree\", 0.1, 1),\n",
        "        \"reg_alpha\": trial.suggest_float(\"reg_alpha\", 1e-8, 1.0),\n",
        "        \"reg_lambda\": trial.suggest_float(\"reg_lambda\", 1e-8, 1.0),\n",
        "        \"scale_pos_weight\": trial.suggest_int(\"scale_pos_weight\", 1, 6),\n",
        "        \"early_stopping_round\": 300,\n",
        "        \"random_state\": 42,\n",
        "        \"num_leaves\": trial.suggest_int(\"num_leaves\", 16, 200),\n",
        "        \"max_depth\": trial.suggest_int(\"max_depth\", 4, 20),\n",
        "        \"min_child_samples\": trial.suggest_int(\"min_child_samples\", 25, 200),\n",
        "    }\n",
        "\n",
        "    skf = StratifiedKFold(n_splits=3, shuffle=True, random_state=52)\n",
        "    aucs = []\n",
        "    for i, (train_index, test_index) in enumerate(skf.split(X, y)):\n",
        "        x_train_fold, x_test_fold = X.iloc[train_index], X.iloc[test_index]\n",
        "        y_train_fold, y_test_fold = y.iloc[train_index], y.iloc[test_index]\n",
        "        model = LGBMClassifier(**params)\n",
        "        model.fit(x_train_fold, y_train_fold,\n",
        "              eval_set=[(x_test_fold, y_test_fold)],\n",
        "              eval_metric='auc',\n",
        "                  categorical_feature=cat_features\n",
        "              )\n",
        "\n",
        "        aucs.append(roc_auc_score(y_test_fold, model.predict_proba(x_test_fold)[:, 1]))\n",
        "\n",
        "    auc = np.mean(aucs)\n",
        "    return auc"
      ],
      "metadata": {
        "id": "YsWxetoVql5b"
      },
      "execution_count": null,
      "outputs": []
    },
    {
      "cell_type": "code",
      "source": [
        "study = optuna.create_study(direction='maximize')\n",
        "study.optimize(objective, n_trials=500)"
      ],
      "metadata": {
        "id": "3UfEJDaorjd6"
      },
      "execution_count": null,
      "outputs": []
    },
    {
      "cell_type": "code",
      "source": [
        "print('Best hyperparameters:', study.best_params)\n",
        "print('Best auc:', study.best_value)"
      ],
      "metadata": {
        "id": "GIYr_dgyrm6l"
      },
      "execution_count": null,
      "outputs": []
    },
    {
      "cell_type": "markdown",
      "source": [
        "## Xgboost"
      ],
      "metadata": {
        "id": "C8SzjcMHr1Wb"
      }
    },
    {
      "cell_type": "code",
      "source": [
        "def objective(trial):\n",
        "    X, y = train_oh.drop(columns=[\"Дата отмены\"]), train_oh[\"Дата отмены\"]\n",
        "    params = {\n",
        "        \"max_depth\": trial.suggest_int(\"max_depth\", 4, 16),\n",
        "        \"learning_rate\": trial.suggest_loguniform(\"learning_rate\", 0.01, 0.2),\n",
        "        \"min_child_weight\": trial.suggest_int(\"min_child_weight\", 1, 1000),\n",
        "        \"gamma\": trial.suggest_loguniform(\"gamma\", 1e-8, 1.0),\n",
        "        \"subsample\": trial.suggest_loguniform(\"subsample\", 0.1, 1),\n",
        "        \"colsample_bynode\": trial.suggest_loguniform(\"colsample_bynode\", 0.1, 1),\n",
        "        \"colsample_bytree\": trial.suggest_loguniform(\"colsample_bytree\", 0.1, 1),\n",
        "        \"reg_alpha\": trial.suggest_loguniform(\"reg_alpha\", 1e-8, 1.0),\n",
        "        \"reg_lambda\": trial.suggest_loguniform(\"reg_lambda\", 1e-8, 1.0),\n",
        "        \"scale_pos_weight\": trial.suggest_int(\"scale_pos_weight\", 1, 6),\n",
        "        \"n_estimators\": 12500,\n",
        "        \"eval_metric\": \"auc\",\n",
        "        \"early_stopping_rounds\": 300,\n",
        "        \"verbose\": 0,\n",
        "        \"random_state\": 52\n",
        "    }\n",
        "\n",
        "    skf = StratifiedKFold(n_splits=3, shuffle=True, random_state=52)\n",
        "    aucs = []\n",
        "    for i, (train_index, test_index) in enumerate(skf.split(X, y)):\n",
        "        x_train_fold, x_test_fold = X.iloc[train_index], X.iloc[test_index]\n",
        "        y_train_fold, y_test_fold = y.iloc[train_index], y.iloc[test_index]\n",
        "        model = XGBClassifier(**params)\n",
        "        model.fit(x_train_fold, y_train_fold,\n",
        "                  eval_set=[(x_test_fold, y_test_fold)],\n",
        "                  verbose=0\n",
        "                  )\n",
        "\n",
        "        aucs.append(roc_auc_score(y_test_fold, model.predict_proba(x_test_fold)[:, 1]))\n",
        "\n",
        "    auc = np.mean(aucs)\n",
        "    return auc"
      ],
      "metadata": {
        "id": "b6sDLkOMr2S3"
      },
      "execution_count": null,
      "outputs": []
    },
    {
      "cell_type": "code",
      "source": [
        "study = optuna.create_study(direction='maximize')\n",
        "study.optimize(objective, n_trials=500)"
      ],
      "metadata": {
        "id": "5wV0qG_bsEH0"
      },
      "execution_count": null,
      "outputs": []
    },
    {
      "cell_type": "code",
      "source": [
        "print('Best hyperparameters:', study.best_params)\n",
        "print('Best auc:', study.best_value)"
      ],
      "metadata": {
        "id": "RwT0J8xmsEbD"
      },
      "execution_count": null,
      "outputs": []
    }
  ]
}